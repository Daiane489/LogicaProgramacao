{
 "cells": [
  {
   "cell_type": "code",
   "execution_count": 2,
   "metadata": {},
   "outputs": [
    {
     "name": "stdout",
     "output_type": "stream",
     "text": [
      "60\n"
     ]
    }
   ],
   "source": [
    "#Atividade 1 \n",
    "a = int(input(\"insira o primeiro número\"))\n",
    "b = int(input(\"insira o segundo número\"))\n",
    "soma = a + b\n",
    "print(soma)"
   ]
  },
  {
   "cell_type": "code",
   "execution_count": 5,
   "metadata": {},
   "outputs": [
    {
     "name": "stdout",
     "output_type": "stream",
     "text": [
      "Correto!\n"
     ]
    }
   ],
   "source": [
    "#Atividade 2\n",
    "fruta = \"banana\"\n",
    "adivinhe = input(\"Tente adivinhar a fruta: \")\n",
    "\n",
    "if adivinhe == fruta:\n",
    "    print(\"Correto!\")\n",
    "else:\n",
    "    print(\"Incorreto!\")"
   ]
  },
  {
   "cell_type": "code",
   "execution_count": 23,
   "metadata": {},
   "outputs": [
    {
     "name": "stdout",
     "output_type": "stream",
     "text": [
      "Dentro do intervalo\n"
     ]
    }
   ],
   "source": [
    "#Atividade 3\n",
    "n1 = int(input(\"insira um número: \"))\n",
    "\n",
    "if n1 >=1 and n1 <=10:\n",
    "    print(\"Dentro do intervalo\")\n",
    "else:\n",
    "    print(\"Fora do intervalo\")\n"
   ]
  },
  {
   "cell_type": "code",
   "execution_count": 27,
   "metadata": {},
   "outputs": [
    {
     "name": "stdout",
     "output_type": "stream",
     "text": [
      "Saldo positivo\n"
     ]
    }
   ],
   "source": [
    "#Atividade 4\n",
    "saldo = 100.0\n",
    "if saldo >0:\n",
    "    print(\"Saldo positivo\")\n",
    "elif saldo ==0:\n",
    "    print(\"Saldo zero\")\n",
    "else:\n",
    "    print(\"Saldo negativo\")"
   ]
  },
  {
   "cell_type": "code",
   "execution_count": 32,
   "metadata": {},
   "outputs": [
    {
     "name": "stdout",
     "output_type": "stream",
     "text": [
      "A temperatura em Fahrenheit é 77.9\n",
      "A temperatura em Fahrenheit é 77.9\n"
     ]
    }
   ],
   "source": [
    "#Atividade 5\n",
    "temperatura = 25.5\n",
    "fahrenheit = temperatura * 9 / 5 + 32\n",
    "print(\"A temperatura em Fahrenheit é\", fahrenheit)\n",
    "print(f\"A temperatura em Fahrenheit é {fahrenheit}\")\n"
   ]
  },
  {
   "cell_type": "code",
   "execution_count": 38,
   "metadata": {},
   "outputs": [
    {
     "name": "stdout",
     "output_type": "stream",
     "text": [
      "Impar\n"
     ]
    }
   ],
   "source": [
    "#Questão teste: Faça um programa para ler o número do usuário e verificar se é um número par ou impar.\n",
    "\n",
    "numero = int(input(\"insira um número:\"))\n",
    "\n",
    "if numero % 2 ==0:\n",
    "    print(\"Par\")\n",
    "else:\n",
    "    print(\"Impar\")\n"
   ]
  }
 ],
 "metadata": {
  "kernelspec": {
   "display_name": "Python 3",
   "language": "python",
   "name": "python3"
  },
  "language_info": {
   "codemirror_mode": {
    "name": "ipython",
    "version": 3
   },
   "file_extension": ".py",
   "mimetype": "text/x-python",
   "name": "python",
   "nbconvert_exporter": "python",
   "pygments_lexer": "ipython3",
   "version": "3.12.0"
  }
 },
 "nbformat": 4,
 "nbformat_minor": 2
}
