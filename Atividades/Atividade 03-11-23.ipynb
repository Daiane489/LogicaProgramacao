{
 "cells": [
  {
   "cell_type": "code",
   "execution_count": 12,
   "metadata": {},
   "outputs": [
    {
     "name": "stdout",
     "output_type": "stream",
     "text": [
      "2\n",
      "2\n",
      "3\n",
      "3\n",
      "3\n",
      "O valor total da soma dos números pares é: 4\n"
     ]
    }
   ],
   "source": [
    "#Questão 01 - Peça ao usuário para inserir 5 números e quando esse número for par ele será somado a uma variável chamada \"total\",\n",
    "#e por fim mostre o valor total da somatória.(DICA: Usar o while e o if)\n",
    "\n",
    "contador = 1\n",
    "total = 0\n",
    "\n",
    "while contador <= 5:\n",
    "   contador = contador + 1\n",
    "   valor = int(input(\"Digite um número\"))\n",
    "   print(valor)\n",
    "   if valor % 2 == 0:\n",
    "      total = total + valor \n",
    "print(f\"O valor total da soma dos números pares é: {total}\")"
   ]
  },
  {
   "cell_type": "code",
   "execution_count": 21,
   "metadata": {},
   "outputs": [
    {
     "name": "stdout",
     "output_type": "stream",
     "text": [
      "2\n",
      "6\n",
      "8\n",
      "1\n",
      "7\n",
      "O maior valor digitado é 8\n"
     ]
    }
   ],
   "source": [
    "#Questão 2 - Peça ao usuário para inserir 5 números e mostre no final quem é o maior.\n",
    "#(DICA: Use If para verificar se é maior e armazenar em uma variável global)\n",
    "\n",
    "contador = 1\n",
    "maior = 0\n",
    "\n",
    "while contador <= 5: \n",
    "    valor = int(input(\"Digite um número\"))\n",
    "    print(valor)\n",
    "    contador = contador + 1\n",
    "    if valor > maior:\n",
    "        maior = valor\n",
    "print(\"O maior valor digitado é\", maior)"
   ]
  },
  {
   "cell_type": "code",
   "execution_count": 26,
   "metadata": {},
   "outputs": [
    {
     "name": "stdout",
     "output_type": "stream",
     "text": [
      "1\n",
      "3\n",
      "5\n",
      "7\n",
      "9\n"
     ]
    }
   ],
   "source": [
    "#Questão 3 - Faça um programa que percorra de 1 a 10 e que ele imprima somente os números ímpares.\n",
    "#(DICA: Use While para percorrer e If para imprimir)\n",
    "\n",
    "cont = 1\n",
    "\n",
    "while cont < 10:\n",
    "    if cont % 2 != 0 :\n",
    "        print(cont)\n",
    "    cont = cont + 1"
   ]
  },
  {
   "cell_type": "code",
   "execution_count": 30,
   "metadata": {},
   "outputs": [
    {
     "name": "stdout",
     "output_type": "stream",
     "text": [
      "1\n",
      "2\n",
      "3\n",
      "4\n",
      "5\n",
      "6\n"
     ]
    }
   ],
   "source": [
    "#Questão 4 - Faça um programa que peça ao usuário para informar até qual número deve ser feito uma contagem, imprimindo os números de 1 até o número informado pelo usuário.\n",
    "#Ex: Se o usuário digitou 5, o programa vai imprimir: 1, 2, 3, 4, 5.\n",
    "#(DICA: Use o while)\n",
    "\n",
    "cont = 0\n",
    "\n",
    "limite = int(input(\"insira o número final\"))\n",
    "while cont <= limite:\n",
    "      cont = cont + 1\n",
    "      print(cont)"
   ]
  }
 ],
 "metadata": {
  "kernelspec": {
   "display_name": "Python 3",
   "language": "python",
   "name": "python3"
  },
  "language_info": {
   "codemirror_mode": {
    "name": "ipython",
    "version": 3
   },
   "file_extension": ".py",
   "mimetype": "text/x-python",
   "name": "python",
   "nbconvert_exporter": "python",
   "pygments_lexer": "ipython3",
   "version": "3.12.0"
  }
 },
 "nbformat": 4,
 "nbformat_minor": 2
}
