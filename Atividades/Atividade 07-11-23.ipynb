{
 "cells": [
  {
   "cell_type": "code",
   "execution_count": 1,
   "metadata": {},
   "outputs": [
    {
     "name": "stdout",
     "output_type": "stream",
     "text": [
      "1\n",
      "2\n",
      "3\n",
      "4\n",
      "5\n"
     ]
    }
   ],
   "source": [
    "#1.\tFaça um programa usando o For que imprima os números de 1 a 5.\n",
    "\n",
    "for x in range(1, 6):\n",
    "    print(x)"
   ]
  },
  {
   "cell_type": "code",
   "execution_count": 2,
   "metadata": {},
   "outputs": [
    {
     "name": "stdout",
     "output_type": "stream",
     "text": [
      "0\n",
      "2\n",
      "4\n",
      "6\n",
      "8\n",
      "10\n"
     ]
    }
   ],
   "source": [
    "#2.\tFaça um programa usando o For que imprima os números de 0 a 10 salteando de 2 em 2.\n",
    "\n",
    "for x in range(0, 11, 2):\n",
    "    print(x)"
   ]
  },
  {
   "cell_type": "code",
   "execution_count": 15,
   "metadata": {},
   "outputs": [
    {
     "name": "stdout",
     "output_type": "stream",
     "text": [
      "maça, laranja e uva\n"
     ]
    }
   ],
   "source": [
    "#3.\tCrie uma lista com os valores “maça”, “laranja” e “uva”. Faça o For percorrer essa lista e imprimir estes nomes.\n",
    "\n",
    "frutas = \"maça, laranja e uva\"\n",
    "\n",
    "for x in [frutas]:\n",
    "   print(x)"
   ]
  },
  {
   "cell_type": "code",
   "execution_count": 5,
   "metadata": {},
   "outputs": [
    {
     "name": "stdout",
     "output_type": "stream",
     "text": [
      "10\n",
      "12\n",
      "14\n",
      "16\n",
      "18\n",
      "20\n"
     ]
    }
   ],
   "source": [
    "#4.\tEscreva um programa usando o For que mostra os números pares de 10 a 20.\n",
    "\n",
    "for x in range (10, 21):\n",
    "    if x % 2 == 0:\n",
    "        print(x)"
   ]
  },
  {
   "cell_type": "code",
   "execution_count": 9,
   "metadata": {},
   "outputs": [
    {
     "name": "stdout",
     "output_type": "stream",
     "text": [
      "1\n",
      "2\n",
      "3\n",
      "4\n",
      "5\n",
      "6\n",
      "8\n",
      "9\n",
      "10\n"
     ]
    }
   ],
   "source": [
    "#5.\tFaça um programa usando o For que imprime os números de 1 a 10, exceto o número 7.\n",
    "\n",
    "for x in range (1, 11):\n",
    "   if x != 7:\n",
    "    print(x)"
   ]
  },
  {
   "cell_type": "code",
   "execution_count": 18,
   "metadata": {},
   "outputs": [
    {
     "name": "stdout",
     "output_type": "stream",
     "text": [
      "a\n",
      "b\n",
      "a\n",
      "c\n"
     ]
    }
   ],
   "source": [
    "#6. Escreva um programa que usando o For percorra a palavra “abacaxi” imprimindo suas letras,\n",
    "# e que ele interrompa a execução do programa logo após imprimir a letra C.\n",
    " \n",
    "fruta = \"abacaxi\"\n",
    "\n",
    "for letras in fruta:\n",
    "    print(letras)\n",
    "    if letras ==\"c\":\n",
    "        break "
   ]
  },
  {
   "cell_type": "code",
   "execution_count": 22,
   "metadata": {},
   "outputs": [
    {
     "name": "stdout",
     "output_type": "stream",
     "text": [
      "10\n",
      "5\n",
      "3\n",
      "-7\n"
     ]
    }
   ],
   "source": [
    "#7.\tFaça um programa que usando o For percorra a lista [10, 5, 3, -7, 2, -8],\n",
    "#e que faça a execução encerrar quando aparecer um número negativo.\n",
    "\n",
    "for x in (10, 5, 3, -7, 2, -8):\n",
    "    print(x)\n",
    "    if x == -7:\n",
    "        break"
   ]
  },
  {
   "cell_type": "code",
   "execution_count": 24,
   "metadata": {},
   "outputs": [
    {
     "name": "stdout",
     "output_type": "stream",
     "text": [
      "java\n",
      "c++\n",
      "python\n"
     ]
    }
   ],
   "source": [
    "#8. Escreva um programa usando o For que percorra sobre uma lista de palavras e imprime cada palavra até encontrar a palavra \"python\".\n",
    "#Quando encontrar \"python\", use o comando break para interromper o loop. Utilize a lista abaixo:\n",
    "#[\"java\", \"c++\", \"python\", \"javascript\", \"ruby\"]\n",
    "\n",
    "palavras = \"java\", \"c++\", \"python\", \"javascript\", \"ruby\"\n",
    "\n",
    "for palavra in palavras:\n",
    "    print(palavra)\n",
    "    if palavra == \"python\":\n",
    "        break"
   ]
  },
  {
   "cell_type": "code",
   "execution_count": 32,
   "metadata": {},
   "outputs": [
    {
     "name": "stdout",
     "output_type": "stream",
     "text": [
      "O primeiro número maior que 20 é: 25\n"
     ]
    }
   ],
   "source": [
    "#9.\tFaça um programa usando o For que percorre uma lista de números e encontra o primeiro número que seja maior que 20.\n",
    "#Use o comando break para interromper o loop quando encontrar esse número. Use a lista abaixo:\n",
    "#[15, 18, 25, 30, 10, 5]\n",
    "\n",
    "numeros = [15, 18, 25, 30, 10, 5]\n",
    "\n",
    "for numero in numeros:\n",
    "    if numero > 20:\n",
    "        print(\"O primeiro número maior que 20 é:\", numero)\n",
    "        break\n"
   ]
  }
 ],
 "metadata": {
  "kernelspec": {
   "display_name": "Python 3",
   "language": "python",
   "name": "python3"
  },
  "language_info": {
   "codemirror_mode": {
    "name": "ipython",
    "version": 3
   },
   "file_extension": ".py",
   "mimetype": "text/x-python",
   "name": "python",
   "nbconvert_exporter": "python",
   "pygments_lexer": "ipython3",
   "version": "3.12.0"
  }
 },
 "nbformat": 4,
 "nbformat_minor": 2
}
