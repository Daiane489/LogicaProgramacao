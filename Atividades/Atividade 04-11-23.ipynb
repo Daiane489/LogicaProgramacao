{
 "cells": [
  {
   "cell_type": "code",
   "execution_count": 1,
   "metadata": {},
   "outputs": [
    {
     "name": "stdout",
     "output_type": "stream",
     "text": [
      "O número 4 tem como antecessor o 3 e como sucessor tem o 5\n"
     ]
    }
   ],
   "source": [
    "#1.\tPeça ao usuário para inserir um número, depois mostre o número antecessor e o número sucessor ao número que o usuário informou.\n",
    "\n",
    "numero = int(input(\"Digite um número!\"))\n",
    "antecessor = numero - 1 \n",
    "sucessor = numero + 1\n",
    "\n",
    "print(\"O número\", numero, \"tem como antecessor o\", antecessor, \"e como sucessor tem o\", sucessor)"
   ]
  },
  {
   "cell_type": "code",
   "execution_count": 2,
   "metadata": {},
   "outputs": [
    {
     "name": "stdout",
     "output_type": "stream",
     "text": [
      "O número 5 tem como seu antecessor o 4 e como sucessor tem o 6\n"
     ]
    }
   ],
   "source": [
    "#Questão 1 - Versão 2.0\n",
    "\n",
    "numero = int(input(\"Digite um número!\"))\n",
    "\n",
    "print(\"O número\", numero, \"tem como seu antecessor o\", numero - 1, \"e como sucessor tem o\", numero + 1)"
   ]
  },
  {
   "cell_type": "code",
   "execution_count": 3,
   "metadata": {},
   "outputs": [
    {
     "name": "stdout",
     "output_type": "stream",
     "text": [
      "A sua média final é 6.666666666666667\n",
      "A sua média final é 6\n",
      "A sua média final é 6\n"
     ]
    }
   ],
   "source": [
    "#2.\tFaça um programa para solicitar a nota de 3 provas, em seguida mostre a média dessas notas para o aluno.\n",
    "\n",
    "cont = 1\n",
    "media = 0 \n",
    "\n",
    "while cont <= 3:\n",
    "    nota = int(input(f\"Insira uma nota {cont}\"))\n",
    "    media = media + nota \n",
    "    cont = cont + 1\n",
    "\n",
    "print(\"A sua média final é\", media/3)\n",
    "print(f\"A sua média final é\", int(media/3))\n",
    "print(\"A sua média final é\", media//3)"
   ]
  },
  {
   "cell_type": "code",
   "execution_count": 4,
   "metadata": {},
   "outputs": [
    {
     "name": "stdout",
     "output_type": "stream",
     "text": [
      "4 x 0 = 0\n",
      "4 x 1 = 4\n",
      "4 x 2 = 8\n",
      "4 x 3 = 12\n",
      "4 x 4 = 16\n",
      "4 x 5 = 20\n",
      "4 x 6 = 24\n",
      "4 x 7 = 28\n",
      "4 x 8 = 32\n",
      "4 x 9 = 36\n",
      "4 x 10 = 40\n"
     ]
    }
   ],
   "source": [
    "#3.\tUsando a estrutura While de repetição, escreva um programa que imprima a tabuada de multiplicação do 4.\n",
    "#Ex:4x1 = 4 ; 4x2 = 8 ; 4x3 = 12.\n",
    "\n",
    "cont = 0 \n",
    "numero = 4 \n",
    "\n",
    "while cont <= 10: \n",
    "    resultado = numero * cont\n",
    "    print(f\"{numero} x {cont} = {resultado}\")\n",
    "    cont = cont + 1 "
   ]
  },
  {
   "cell_type": "code",
   "execution_count": 5,
   "metadata": {},
   "outputs": [
    {
     "name": "stdout",
     "output_type": "stream",
     "text": [
      "4 x 0 = 0\n",
      "4 x 1 = 4\n",
      "4 x 2 = 8\n",
      "4 x 3 = 12\n",
      "4 x 4 = 16\n",
      "4 x 5 = 20\n",
      "4 x 6 = 24\n",
      "4 x 7 = 28\n",
      "4 x 8 = 32\n",
      "4 x 9 = 36\n",
      "4 x 10 = 40\n"
     ]
    }
   ],
   "source": [
    "#Questão 3 - Versão 2.0\n",
    "\n",
    "cont = 0\n",
    "\n",
    "while cont <= 10:\n",
    "    print(f\"4 x {cont} = {4*cont}\")\n",
    "    cont = cont + 1"
   ]
  },
  {
   "cell_type": "code",
   "execution_count": 6,
   "metadata": {},
   "outputs": [
    {
     "name": "stdout",
     "output_type": "stream",
     "text": [
      "O valor em dólar é 1.0\n"
     ]
    }
   ],
   "source": [
    "#4.\tFaça um programa onde o usuário informar um valor monetário na moeda Real Brasileiro(R$) e converta esse valor para Dólar Americano(U$), \n",
    "# levando em consideração que U$ 1 Dólar custa R$ 4,90 Reais. Por fim mostre o valor convertido.\n",
    "\n",
    "real = float(input(\"digite o valor em real (R$)\"))\n",
    "\n",
    "conversao = 4.9\n",
    "dolar = real / conversao\n",
    "print(\"O valor em dólar é\", dolar)\n"
   ]
  },
  {
   "cell_type": "code",
   "execution_count": 10,
   "metadata": {},
   "outputs": [
    {
     "name": "stdout",
     "output_type": "stream",
     "text": [
      "O valor em dólar é 1.0\n"
     ]
    }
   ],
   "source": [
    "#Questão 4 - Versão 2.0\n",
    "\n",
    "real = float(input(\"digite o valor em real (R$)\"))\n",
    "\n",
    "print(f\"O valor em dólar é {real/4.9}\")"
   ]
  }
 ],
 "metadata": {
  "kernelspec": {
   "display_name": "Python 3",
   "language": "python",
   "name": "python3"
  },
  "language_info": {
   "codemirror_mode": {
    "name": "ipython",
    "version": 3
   },
   "file_extension": ".py",
   "mimetype": "text/x-python",
   "name": "python",
   "nbconvert_exporter": "python",
   "pygments_lexer": "ipython3",
   "version": "3.12.0"
  }
 },
 "nbformat": 4,
 "nbformat_minor": 2
}
