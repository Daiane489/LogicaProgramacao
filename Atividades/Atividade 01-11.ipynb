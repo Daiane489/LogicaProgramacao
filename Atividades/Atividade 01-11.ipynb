{
 "cells": [
  {
   "cell_type": "code",
   "execution_count": 1,
   "metadata": {},
   "outputs": [
    {
     "name": "stdout",
     "output_type": "stream",
     "text": [
      "1\n",
      "2\n",
      "3\n",
      "4\n",
      "5\n"
     ]
    }
   ],
   "source": [
    "x = 1\n",
    "\n",
    "while x <= 5:\n",
    "    print(x)\n",
    "    x = x + 1"
   ]
  },
  {
   "cell_type": "code",
   "execution_count": 2,
   "metadata": {},
   "outputs": [
    {
     "name": "stdout",
     "output_type": "stream",
     "text": [
      "olá mundo 1\n",
      "olá mundo 2\n",
      "olá mundo 3\n",
      "olá mundo 4\n",
      "olá mundo 5\n"
     ]
    }
   ],
   "source": [
    "x = 1\n",
    "\n",
    "while x <= 5:\n",
    "    print(\"olá mundo\", x)\n",
    "    x = x + 1"
   ]
  },
  {
   "cell_type": "code",
   "execution_count": 3,
   "metadata": {},
   "outputs": [
    {
     "name": "stdout",
     "output_type": "stream",
     "text": [
      "olá mundo 10\n",
      "olá mundo 11\n",
      "olá mundo 12\n",
      "olá mundo 13\n",
      "olá mundo 14\n",
      "olá mundo 15\n"
     ]
    }
   ],
   "source": [
    "x = 10\n",
    "\n",
    "while x <= 15:\n",
    "    print(\"olá mundo\", x)\n",
    "    x = x + 1"
   ]
  },
  {
   "cell_type": "code",
   "execution_count": 13,
   "metadata": {},
   "outputs": [
    {
     "name": "stdout",
     "output_type": "stream",
     "text": [
      "A soma dos 5 valores é: 15\n"
     ]
    }
   ],
   "source": [
    "# Faça um programa para receber 5 valores e mostrar a soma de todos eles no final. Usando While.\n",
    "\n",
    "soma = 0\n",
    "contador = 1\n",
    "\n",
    "while contador <=5:\n",
    "    valor = int(input(\"Digite um valor:\"))\n",
    "    soma = soma + valor\n",
    "    contador = contador + 1\n",
    "\n",
    "print(f\"A soma dos 5 valores é:\", soma)"
   ]
  },
  {
   "cell_type": "code",
   "execution_count": 16,
   "metadata": {},
   "outputs": [
    {
     "name": "stdout",
     "output_type": "stream",
     "text": [
      "11\n"
     ]
    }
   ],
   "source": [
    "# Faça um programa para receber valores infinitamente, porém que o programa encerre quando esse valor for maior que 10.\n",
    "\n",
    "while True >10: \n",
    "    valor = int(input(\"Digite um \"))\n",
    "    if valor > 10:\n",
    "        break \n",
    "print(valor)"
   ]
  },
  {
   "cell_type": "code",
   "execution_count": 17,
   "metadata": {},
   "outputs": [
    {
     "name": "stdout",
     "output_type": "stream",
     "text": [
      "2\n",
      "2\n",
      "5\n",
      "3\n",
      "5\n",
      "11\n"
     ]
    }
   ],
   "source": [
    "x = 0 \n",
    "\n",
    "while x <= 10:\n",
    "    x = int(input(\"Insira um valor\"))\n",
    "    print(x)"
   ]
  }
 ],
 "metadata": {
  "kernelspec": {
   "display_name": "Python 3",
   "language": "python",
   "name": "python3"
  },
  "language_info": {
   "codemirror_mode": {
    "name": "ipython",
    "version": 3
   },
   "file_extension": ".py",
   "mimetype": "text/x-python",
   "name": "python",
   "nbconvert_exporter": "python",
   "pygments_lexer": "ipython3",
   "version": "3.12.0"
  }
 },
 "nbformat": 4,
 "nbformat_minor": 2
}
