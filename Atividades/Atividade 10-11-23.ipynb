{
 "cells": [
  {
   "cell_type": "code",
   "execution_count": 5,
   "metadata": {},
   "outputs": [
    {
     "name": "stdout",
     "output_type": "stream",
     "text": [
      "O resultado da soma é: 27, e o resultado da multplicação é: 180\n"
     ]
    }
   ],
   "source": [
    "#1.\tCrie duas variáveis, a e b, e atribua a elas valores numéricos diferentes. Em seguida, imprima a soma e o multiplicação desses números.\n",
    "\n",
    "a = 15\n",
    "b = 12\n",
    "\n",
    "print(f\"O resultado da soma é: {a + b}, e o resultado da multplicação é: {a * b}\")"
   ]
  },
  {
   "cell_type": "code",
   "execution_count": 31,
   "metadata": {},
   "outputs": [
    {
     "name": "stdout",
     "output_type": "stream",
     "text": [
      "Amarelo\n",
      "vermelho\n",
      "azul\n",
      "preto\n",
      "rosa\n"
     ]
    }
   ],
   "source": [
    "#2.\tCrie uma lista com cinco cores diferentes. Use um loop for para imprimir cada cor.\n",
    "\n",
    "cores = [\"Amarelo\", \"vermelho\", \"azul\", \"preto\", \"rosa\"]\n",
    "\n",
    "for x in (cores):\n",
    "    print(x)"
   ]
  },
  {
   "cell_type": "code",
   "execution_count": 32,
   "metadata": {},
   "outputs": [
    {
     "name": "stdout",
     "output_type": "stream",
     "text": [
      "Brasília\n"
     ]
    }
   ],
   "source": [
    "#3.\tCrie um dicionário com nomes de países, a chave deve conter o nome do país e o valor a sua capital. Imprima a capital do Brasil.\n",
    "\n",
    "países = { \n",
    "    \"EUA\": \"Washington\",\n",
    "    \"Japão\": \"Toquio\",\n",
    "    \"Brasil\": \"Brasília\",\n",
    "    \"Itália\": \"Roma\",\n",
    "}\n",
    "\n",
    "x = países[\"Brasil\"]\n",
    "print(x)"
   ]
  },
  {
   "cell_type": "code",
   "execution_count": 33,
   "metadata": {},
   "outputs": [
    {
     "name": "stdout",
     "output_type": "stream",
     "text": [
      "A pessoa é maior de 18 anos.\n"
     ]
    }
   ],
   "source": [
    "#4.\tCrie uma variável idade e atribua um valor numérico.\n",
    "# Use uma instrução if para verificar se a pessoa é maior de 18 anos e imprima uma mensagem apropriada.\n",
    "\n",
    "idade = 22\n",
    "\n",
    "if idade >= 18:\n",
    "    print(\"A pessoa é maior de 18 anos.\")\n",
    "else:\n",
    "    print(\"A pessoa é menor de 18 anos.\")"
   ]
  },
  {
   "cell_type": "code",
   "execution_count": 15,
   "metadata": {},
   "outputs": [
    {
     "name": "stdout",
     "output_type": "stream",
     "text": [
      "Boa Madrugada\n"
     ]
    }
   ],
   "source": [
    "#5.\tCrie uma variável hora e atribua um valor numérico representando a hora do dia (24 horas). \n",
    "#Use if, elif e else para imprimir mensagens diferentes dependendo do período do dia.\n",
    "#•\tBoa Madrugada = Entre 00 e 05 ; •Bom dia = Entre 06 e 11 ; •Boa tarde = Entre 12 e 17\n",
    "#•\tBoa noite = Entre 18 e 23\n",
    "\n",
    "hora = 3\n",
    "\n",
    "if 0 <= hora <= 5:\n",
    "    print(\"Boa Madrugada\")\n",
    "elif 6 <= hora <= 11:\n",
    "    print(\"Bom Dia\")\n",
    "elif 12 <= hora <= 17:\n",
    "    print(\"Boa tarde\")\n",
    "else:\n",
    "    print(\"Boa noite\")\n"
   ]
  },
  {
   "cell_type": "code",
   "execution_count": 16,
   "metadata": {},
   "outputs": [
    {
     "name": "stdout",
     "output_type": "stream",
     "text": [
      "1\n",
      "2\n",
      "3\n",
      "4\n",
      "5\n"
     ]
    }
   ],
   "source": [
    "#6.Utilize um loop while para imprimir os números de 1 a 5.\n",
    "\n",
    "x = 1\n",
    "\n",
    "while x <= 5:\n",
    "    print(x)\n",
    "    x = x + 1"
   ]
  },
  {
   "cell_type": "code",
   "execution_count": 34,
   "metadata": {},
   "outputs": [
    {
     "name": "stdout",
     "output_type": "stream",
     "text": [
      "2\n",
      "4\n",
      "10\n",
      "30\n"
     ]
    }
   ],
   "source": [
    "#7.Crie uma lista de números. Use um loop for para imprimir apenas os números pares.\n",
    "\n",
    "numeros = [2, 4, 5, 9, 10, 30, 15]\n",
    "\n",
    "for x in numeros:\n",
    "    if x % 2 == 0:\n",
    "        print(x)"
   ]
  },
  {
   "cell_type": "code",
   "execution_count": 19,
   "metadata": {},
   "outputs": [
    {
     "name": "stdout",
     "output_type": "stream",
     "text": [
      "melancia\n",
      "acerola \n"
     ]
    }
   ],
   "source": [
    "#8.0 -Crie uma lista de frutas. Imprima o primeiro e o último item da lista. Crie uma lista de fluxos\n",
    "\n",
    "list_frutas = [\"melancia\", \"abacaxi\", \"uva\", \"banana\", \"acerola \"]\n",
    "\n",
    "print(list_frutas[0])\n",
    "print(list_frutas[4])\n"
   ]
  },
  {
   "cell_type": "code",
   "execution_count": 35,
   "metadata": {},
   "outputs": [
    {
     "name": "stdout",
     "output_type": "stream",
     "text": [
      "melancia\n",
      "5\n"
     ]
    }
   ],
   "source": [
    "#Questão 8.1 \n",
    "\n",
    "list_frutas = [\"melancia\", \"abacaxi\", \"uva\", \"banana\", \"acerola \"]\n",
    "\n",
    "print(list_frutas[0])\n",
    "print(len(list_frutas))"
   ]
  },
  {
   "cell_type": "code",
   "execution_count": 23,
   "metadata": {},
   "outputs": [
    {
     "name": "stdout",
     "output_type": "stream",
     "text": [
      "1\n",
      "2\n",
      "3\n",
      "4\n",
      "5\n",
      "6\n",
      "7\n",
      "8\n",
      "9\n",
      "10\n"
     ]
    }
   ],
   "source": [
    "#9.\tUse um loop for e a função range para imprimir os números de 1 a 10. \n",
    "\n",
    "for x in range(1, 11):\n",
    "    print(x)"
   ]
  },
  {
   "cell_type": "code",
   "execution_count": 36,
   "metadata": {},
   "outputs": [
    {
     "name": "stdout",
     "output_type": "stream",
     "text": [
      "gato está dentro de animais\n"
     ]
    }
   ],
   "source": [
    "#10.Crie uma lista de animais e use uma instrução if para verificar se 'gato' está na lista. Imprima uma mensagem apropriada.\n",
    "\n",
    "lista  = [\"cachorro\", \"gato\", \"leão\", \"galinha\"]\n",
    "\n",
    "if \"gato\" in lista:\n",
    "    print(\"gato está dentro de animais\")\n",
    "    "
   ]
  },
  {
   "cell_type": "code",
   "execution_count": 27,
   "metadata": {},
   "outputs": [
    {
     "name": "stdout",
     "output_type": "stream",
     "text": [
      "1\n",
      "2\n",
      "3\n",
      "4\n"
     ]
    }
   ],
   "source": [
    "#11.Utilize um loop while para imprimir os números de 1 a 10, mas interrompa o loop se encontrar o número 5.\n",
    "\n",
    "x = 1\n",
    "\n",
    "while x < 10:\n",
    "    if x == 5:\n",
    "        break \n",
    "    print(x)\n",
    "    x +=1\n",
    "\n"
   ]
  },
  {
   "cell_type": "code",
   "execution_count": 39,
   "metadata": {},
   "outputs": [
    {
     "name": "stdout",
     "output_type": "stream",
     "text": [
      "Par\n"
     ]
    }
   ],
   "source": [
    "#12.Crie uma variável numero e use uma instrução if para imprimir \"Par\" se o número for par e \"Ímpar\" se for ímpar.\n",
    "\n",
    "numero = 4\n",
    "\n",
    "if numero % 2 == 0:\n",
    "    print(\"Par\")\n",
    "else:\n",
    "    print(\"Impar\")"
   ]
  },
  {
   "cell_type": "code",
   "execution_count": null,
   "metadata": {},
   "outputs": [],
   "source": [
    "#13.\tCrie duas listas, uma com dias da semana e outra com tarefas a fazer. \n",
    "#Use dois loops for aninhados para imprimir todas as combinações dia-tarefa. O resultado dever parecer com:\n",
    "#•\tsegunda-feira: Lavar louça\n",
    "#•\tterça-feira: Limpar a casa\n",
    "\n",
    "\n"
   ]
  }
 ],
 "metadata": {
  "kernelspec": {
   "display_name": "Python 3",
   "language": "python",
   "name": "python3"
  },
  "language_info": {
   "codemirror_mode": {
    "name": "ipython",
    "version": 3
   },
   "file_extension": ".py",
   "mimetype": "text/x-python",
   "name": "python",
   "nbconvert_exporter": "python",
   "pygments_lexer": "ipython3",
   "version": "3.12.0"
  }
 },
 "nbformat": 4,
 "nbformat_minor": 2
}
