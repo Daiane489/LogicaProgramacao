{
 "cells": [
  {
   "cell_type": "code",
   "execution_count": 4,
   "metadata": {},
   "outputs": [
    {
     "name": "stdout",
     "output_type": "stream",
     "text": [
      "{'marca': 'Fiat', 'modelo': 'Argo'}\n",
      "{'marca': 'Fiat', 'modelo': 'Argo', 'ano': 1899}\n"
     ]
    }
   ],
   "source": [
    "#Questão 01 - Faça um programa que tenha um dicionário com 2 itens depois crie \n",
    "\n",
    "umDicio = {\n",
    "    \"marca\": \"Fiat\",\n",
    "    \"modelo\": \"Argo\"\n",
    "    }\n",
    "\n",
    "print(umDicio)\n",
    "umDicio [\"ano\"] = 1899\n",
    "print(umDicio)\n"
   ]
  },
  {
   "cell_type": "code",
   "execution_count": 3,
   "metadata": {},
   "outputs": [
    {
     "name": "stdout",
     "output_type": "stream",
     "text": [
      "{'marca': 'Fiat', 'modelo': 'Argo', 'ano': 1899}\n",
      "{'modelo': 'Argo', 'ano': 1899}\n"
     ]
    }
   ],
   "source": [
    "#Questão 02\n",
    "\n",
    "umDicio = {\n",
    "    \"marca\": \"Fiat\",\n",
    "    \"modelo\": \"Argo\",\n",
    "    \"ano\": 1899\n",
    "    }\n",
    "\n",
    "print(umDicio)\n",
    "umDicio.pop (\"marca\")\n",
    "print(umDicio)"
   ]
  }
 ],
 "metadata": {
  "kernelspec": {
   "display_name": "Python 3",
   "language": "python",
   "name": "python3"
  },
  "language_info": {
   "codemirror_mode": {
    "name": "ipython",
    "version": 3
   },
   "file_extension": ".py",
   "mimetype": "text/x-python",
   "name": "python",
   "nbconvert_exporter": "python",
   "pygments_lexer": "ipython3",
   "version": "3.12.0"
  }
 },
 "nbformat": 4,
 "nbformat_minor": 2
}
