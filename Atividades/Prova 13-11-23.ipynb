{
 "cells": [
  {
   "cell_type": "code",
   "execution_count": 4,
   "metadata": {},
   "outputs": [
    {
     "name": "stdout",
     "output_type": "stream",
     "text": [
      "A subtração entre 30 e 6 é 24\n",
      "A divisão entre 30 e 6 é 5.0\n"
     ]
    }
   ],
   "source": [
    "#1.Crie duas variáveis, x e y, e atribua a elas valores numéricos diferentes. Em seguida, imprima a subtração e a divisão desses números.\n",
    "\n",
    "x = 30\n",
    "y = 6\n",
    "\n",
    "print(f\"A subtração entre {x} e {y} é {x - y}\")\n",
    "print(f\"A divisão entre {x} e {y} é {x / y}\")"
   ]
  },
  {
   "cell_type": "code",
   "execution_count": 6,
   "metadata": {},
   "outputs": [
    {
     "name": "stdout",
     "output_type": "stream",
     "text": [
      "Abacaxi\n",
      "Acerola\n",
      "Goiaba\n",
      "Uva\n"
     ]
    }
   ],
   "source": [
    "#2.\tCrie uma lista com quatro frutas diferentes. Use um loop for para imprimir cada fruta.\n",
    "\n",
    "frutas = [\"Abacaxi\", \"Acerola\", \"Goiaba\", \"Uva\"]\n",
    "\n",
    "for x in (frutas):\n",
    "    print(x)"
   ]
  },
  {
   "cell_type": "code",
   "execution_count": 26,
   "metadata": {},
   "outputs": [
    {
     "name": "stdout",
     "output_type": "stream",
     "text": [
      "1.65\n"
     ]
    }
   ],
   "source": [
    "#3.\tCrie um dicionário com nome, idade e altura de uma pessoa, imprima a altura da pessoa.\n",
    "\n",
    "nomes = {\n",
    "    \"nome\": \"Layane\",\n",
    "    \"idade\" : 14,\n",
    "    \"altura\": 1.65\n",
    "}\n",
    "x = nomes[\"altura\"]\n",
    "print(x)"
   ]
  },
  {
   "cell_type": "code",
   "execution_count": 7,
   "metadata": {},
   "outputs": [
    {
     "name": "stdout",
     "output_type": "stream",
     "text": [
      "Você pode utilizar o brinquedo do parque de diversões.\n"
     ]
    }
   ],
   "source": [
    "#4.Crie uma variável chamada altura e atribua um valor numérico. Use uma instrução if para verificar se a pessoa tem 1.40 metros ou mais de altura \n",
    "#para poder utilizar o brinquedo do parque de diversões e imprima uma mensagem apropriada.\n",
    "\n",
    "altura = 1.65\n",
    "\n",
    "if altura >= 1.40:\n",
    "    print(\"Você pode utilizar o brinquedo do parque de diversões.\")\n",
    "else:\n",
    "    print(\"Desculpe, você não atende à altura mínima para este brinquedo.\")"
   ]
  },
  {
   "cell_type": "code",
   "execution_count": 13,
   "metadata": {},
   "outputs": [
    {
     "name": "stdout",
     "output_type": "stream",
     "text": [
      "Temperatura Mediana\n"
     ]
    }
   ],
   "source": [
    "#5.\tCrie uma variável temperatura e atribua um valor numérico representando a temperatura do processador do computador. \n",
    "#Use if, elif e else para imprimir mensagens diferentes dependendo da temperatura.\n",
    "#•Temperatura Baixa = Entre 0º e 35º ; #•Temperatura Mediana = Entre 36º e 57º ; #•Temperatura Alta = Entre 58º e 72º\n",
    "#•Temperatura Extrema = Entre 73º ou mais\n",
    "\n",
    "temperatura = 40\n",
    "\n",
    "if temperatura >= 0 and temperatura <=35:\n",
    "    print(\"Temperatura Baixa\")\n",
    "elif temperatura >= 36 and temperatura <= 57:\n",
    "    print(\"Temperatura Mediana\")\n",
    "elif temperatura >= 58 and temperatura <= 72:\n",
    "    print(\"Temperatura Alta\")\n",
    "else:\n",
    "    print(\"Temperatura Extrema\")\n"
   ]
  },
  {
   "cell_type": "code",
   "execution_count": 14,
   "metadata": {},
   "outputs": [
    {
     "name": "stdout",
     "output_type": "stream",
     "text": [
      "4\n",
      "5\n",
      "6\n",
      "7\n",
      "8\n",
      "9\n",
      "10\n",
      "11\n",
      "12\n"
     ]
    }
   ],
   "source": [
    "#6.\tUtilize um loop while para imprimir os números de 4 a 12.\n",
    "\n",
    "x = 4\n",
    "\n",
    "while x <= 12:\n",
    "    print(x)\n",
    "    x += 1"
   ]
  },
  {
   "cell_type": "code",
   "execution_count": 15,
   "metadata": {},
   "outputs": [
    {
     "name": "stdout",
     "output_type": "stream",
     "text": [
      "2\n",
      "4\n",
      "6\n",
      "8\n",
      "10\n"
     ]
    }
   ],
   "source": [
    "#7.\tUse a seguinte lista de números no programa. Use um loop for para imprimir apenas os números ímpares.\n",
    "#numeros = [1,2,3,4,5,6,7,8,9,10]\n",
    "\n",
    "numeros = [1,2,3,4,5,6,7,8,9,10]\n",
    "\n",
    "for x in (numeros):\n",
    "    if x % 2 == 0:\n",
    "        print(x)"
   ]
  },
  {
   "cell_type": "code",
   "execution_count": 18,
   "metadata": {},
   "outputs": [
    {
     "name": "stdout",
     "output_type": "stream",
     "text": [
      "Cajá\n",
      "Banana\n"
     ]
    }
   ],
   "source": [
    "#8.\tCrie uma lista de frutas. Imprima o primeiro e o último item da lista.\n",
    "\n",
    "lista = [\"Cajá\" , \"Carambola\", \"Framboesa\", \"Goiaba\", \"Banana\"]\n",
    "\n",
    "print(lista[0])\n",
    "print(lista[4])"
   ]
  },
  {
   "cell_type": "code",
   "execution_count": 23,
   "metadata": {},
   "outputs": [
    {
     "name": "stdout",
     "output_type": "stream",
     "text": [
      "-1\n",
      "-2\n",
      "-3\n",
      "-4\n",
      "-5\n",
      "-6\n",
      "-7\n",
      "-8\n",
      "-9\n",
      "-10\n"
     ]
    }
   ],
   "source": [
    "#9.\tUse um loop for e a função range para imprimir os números de (-1) a (-10).\n",
    "\n",
    "for x in range(-1, -11 , -1):\n",
    "    print(x)"
   ]
  },
  {
   "cell_type": "code",
   "execution_count": 25,
   "metadata": {},
   "outputs": [
    {
     "name": "stdout",
     "output_type": "stream",
     "text": [
      "A coxinha está na lista de lanches.\n"
     ]
    }
   ],
   "source": [
    "#10.Crie uma lista de lanches e use uma instrução if para verificar se 'coxinha' está na lista. Imprima uma mensagem apropriada.\n",
    "\n",
    "lista = [\"Pastel\", \"Empada\", \"Coxinha\", \"Quibe\"]\n",
    "\n",
    "if \"Coxinha\" in lista:\n",
    "    print(\"A coxinha está na lista de lanches.\")"
   ]
  }
 ],
 "metadata": {
  "kernelspec": {
   "display_name": "Python 3",
   "language": "python",
   "name": "python3"
  },
  "language_info": {
   "codemirror_mode": {
    "name": "ipython",
    "version": 3
   },
   "file_extension": ".py",
   "mimetype": "text/x-python",
   "name": "python",
   "nbconvert_exporter": "python",
   "pygments_lexer": "ipython3",
   "version": "3.12.0"
  }
 },
 "nbformat": 4,
 "nbformat_minor": 2
}
